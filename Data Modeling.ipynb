{
 "cells": [
  {
   "cell_type": "code",
   "execution_count": 2,
   "id": "502a6953",
   "metadata": {},
   "outputs": [],
   "source": [
    "import pandas as pd\n",
    "from sklearn.preprocessing import LabelEncoder\n",
    "import numpy as np\n",
    "from sklearn.preprocessing import MinMaxScaler\n",
    "\n",
    "data  = pd.read_csv('Bicycle_Thefts_Open_Data.csv')"
   ]
  },
  {
   "cell_type": "code",
   "execution_count": 3,
   "id": "29b23e47",
   "metadata": {},
   "outputs": [],
   "source": [
    "#Null Values\n",
    "data_null_count = data.isnull().sum()\n",
    "data_null_percentage = (data.isnull().sum() / data.shape[0]) * 100\n",
    "null_values = pd.DataFrame({\n",
    "    'Null Count': data_null_count,\n",
    "    'Null Percentage': data_null_percentage\n",
    "})"
   ]
  },
  {
   "cell_type": "code",
   "execution_count": 4,
   "id": "8625c717",
   "metadata": {},
   "outputs": [],
   "source": [
    "#handle uneligable value\n",
    "data.replace(['-', '--', '----', '?', '??', '+'], pd.NA, inplace=True)"
   ]
  },
  {
   "cell_type": "code",
   "execution_count": 12,
   "id": "7b835809",
   "metadata": {},
   "outputs": [],
   "source": [
    "#Bike Make & Bike Color fill na with mode (categorical column)\n",
    "data['BIKE_MAKE'].fillna(data['BIKE_MAKE'].mode()[0], inplace=True)\n",
    "data['BIKE_COLOUR'].fillna(data['BIKE_COLOUR'].mode()[0], inplace=True)\n",
    "\n",
    "data_null_count = data.isnull().sum()\n",
    "data_null_percentage = (data.isnull().sum() / data.shape[0]) * 100\n",
    "null_values = pd.DataFrame({\n",
    "    'Null Count': data_null_count,\n",
    "    'Null Percentage': data_null_percentage\n",
    "})"
   ]
  },
  {
   "cell_type": "code",
   "execution_count": 5,
   "id": "668bd36b",
   "metadata": {},
   "outputs": [],
   "source": [
    "#Bike Model -> 37% missing. Too many missing values so drop the colum\n",
    "data.dropna(subset=['BIKE_MODEL'], inplace=True)\n",
    "\n",
    "data_null_count = data.isnull().sum()\n",
    "data_null_percentage = (data.isnull().sum() / data.shape[0]) * 100\n",
    "null_values = pd.DataFrame({\n",
    "    'Null Count': data_null_count,\n",
    "    'Null Percentage': data_null_percentage\n",
    "})\n",
    "\n"
   ]
  },
  {
   "cell_type": "code",
   "execution_count": 6,
   "id": "38bc9844",
   "metadata": {},
   "outputs": [],
   "source": [
    "#Bike Speed & Bike Cost fill na with mean (numerical column)\n",
    "data['BIKE_SPEED'].fillna(data['BIKE_SPEED'].mean(), inplace=True)\n",
    "data['BIKE_COST'].fillna(data['BIKE_COST'].mean(), inplace=True)\n",
    "\n",
    "\n",
    "data_null_count = data.isnull().sum()\n",
    "data_null_percentage = (data.isnull().sum() / data.shape[0]) * 100\n",
    "null_values = pd.DataFrame({\n",
    "    'Null Count': data_null_count,\n",
    "    'Null Percentage': data_null_percentage\n",
    "})\n",
    "#null_values"
   ]
  },
  {
   "cell_type": "code",
   "execution_count": 7,
   "id": "b514f67b",
   "metadata": {},
   "outputs": [
    {
     "data": {
      "text/plain": [
       "array([13,  8, 11,  0, 19,  4,  9,  3,  1, 20, 16,  5,  7, 10,  2, 17, 15,\n",
       "        6, 14, 12, 18])"
      ]
     },
     "execution_count": 7,
     "metadata": {},
     "output_type": "execute_result"
    }
   ],
   "source": [
    "#encode column Bike_model. Lots of different categories so retain top 20 and the rest 'other'\n",
    "from sklearn.preprocessing import LabelEncoder\n",
    "label_encoder = LabelEncoder()\n",
    "#encode column Bike_model. Lots of different categories so retain top 20 and the rest 'other'\n",
    "top_categories = 20\n",
    "top_n_categories = data['BIKE_MODEL'].value_counts().nlargest(top_categories).index\n",
    "data['BIKE_MODEL_CAT'] = data['BIKE_MODEL'].apply(lambda x: x if x in top_n_categories else 'Other')\n",
    "\n",
    "data['BIKE_MODEL_IND'] = label_encoder.fit_transform(data['BIKE_MODEL_CAT'])\n",
    "data['BIKE_MODEL_IND'].unique()"
   ]
  },
  {
   "cell_type": "code",
   "execution_count": 8,
   "id": "d000f7bb",
   "metadata": {},
   "outputs": [
    {
     "data": {
      "text/plain": [
       "array([12, 46, 16,  2, 30, 22, 31, 32, 34, 17, 49, 11, 47,  5,  9, 18, 42,\n",
       "        6, 29, 33, 38, 41, 36, 35, 26, 21, 23, 45, 24, 40, 43, 13, 37, 14,\n",
       "       25, 48,  3, 19, 44, 20,  0,  4, 10,  8, 39, 15,  7, 27,  1, 50, 28])"
      ]
     },
     "execution_count": 8,
     "metadata": {},
     "output_type": "execute_result"
    }
   ],
   "source": [
    "#encode column bike make. Lots of different categories so retain top 50 and the rest 'other'\n",
    "\n",
    "top_categories = 50\n",
    "top_n_categories = data['BIKE_MAKE'].value_counts().nlargest(top_categories).index\n",
    "data['BIKE_MAKE_CAT'] = data['BIKE_MAKE'].apply(lambda x: x if x in top_n_categories else 'Other')\n",
    "\n",
    "data['BIKE_MAKE_IND'] = label_encoder.fit_transform(data['BIKE_MAKE_CAT'])\n",
    "data['BIKE_MAKE_IND'].unique()"
   ]
  },
  {
   "cell_type": "code",
   "execution_count": 9,
   "id": "584c4cee",
   "metadata": {},
   "outputs": [
    {
     "data": {
      "text/plain": [
       "array([35,  1, 11, 46, 36, 25, 23, 38, 50,  4, 43,  0,  7, 30, 42, 41,  2,\n",
       "       32, 33, 10, 14, 13, 21,  9, 20, 22, 49, 18, 27, 34, 16, 29, 28,  8,\n",
       "       40, 47, 45, 39,  5, 31,  3, 37, 44, 17, 19,  6, 12, 48, 26, 15, 24])"
      ]
     },
     "execution_count": 9,
     "metadata": {},
     "output_type": "execute_result"
    }
   ],
   "source": [
    "#encode column bike color. Lots of different categories so retain top 50 and the rest 'other'\n",
    "top_categories = 50\n",
    "top_n_categories = data['BIKE_COLOUR'].value_counts().nlargest(top_categories).index\n",
    "data['BIKE_COLOUR_CAT'] = data['BIKE_COLOUR'].apply(lambda x: x if x in top_n_categories else 'Other')\n",
    "data['BIKE_COLOUR_IND'] = label_encoder.fit_transform(data['BIKE_COLOUR_CAT'])\n",
    "data['BIKE_COLOUR_IND'].unique()"
   ]
  },
  {
   "cell_type": "code",
   "execution_count": 10,
   "id": "e324a981",
   "metadata": {},
   "outputs": [],
   "source": [
    "#encode column neighbourhood 158. Lots of different categories so retain top 50 and the rest 'other'\n",
    "top_categories = 50\n",
    "top_n_categories = data['NEIGHBOURHOOD_158'].value_counts().nlargest(top_categories).index\n",
    "data['NEIGHBOURHOOD_158_CAT'] = data['NEIGHBOURHOOD_158'].apply(lambda x: x if x in top_n_categories else 'Other')\n",
    "data['NEIGHBOURHOOD_158_IND'] = label_encoder.fit_transform(data['NEIGHBOURHOOD_158_CAT'])\n"
   ]
  },
  {
   "cell_type": "code",
   "execution_count": 11,
   "id": "74dd9684",
   "metadata": {},
   "outputs": [
    {
     "data": {
      "text/plain": [
       "array([194,   7,  33, 203, 156, 112,  97, 105, 176, 225, 188,  45, 219,\n",
       "        18, 187,   0,  27, 130, 186, 183,  10, 140, 144,  32,  50,  46,\n",
       "       196,  83,  31,  40,  75,  90,  42, 213,  67, 125, 153,  52, 159,\n",
       "       100,  69, 169, 179, 128, 126,  28, 145, 182, 204, 199, 177,  30,\n",
       "        23, 223, 214, 134, 122,  17, 167, 207, 197,  61, 227, 208,  21,\n",
       "       129,  72, 185,  25,  16, 142, 190,  34, 212, 210, 164, 211,  63,\n",
       "       171, 218, 206,  70,  35, 103, 137, 170, 166,  15,  19,  81, 205,\n",
       "       113,  48, 195,  26,  12, 110,  20, 184,  51, 111,  94, 151,  38,\n",
       "         6, 124,  84,  59,  98,  36,  39, 108, 221,  74,  99,   1,   9,\n",
       "       118, 192,   5,  95,   3, 114,  44, 202,  71, 155, 160,  76,  68,\n",
       "        43, 101, 178,  82, 173, 102, 158, 119, 181, 189, 120, 121, 220,\n",
       "        92, 133, 165, 123,  65,  24, 193, 226, 217, 200, 143,  88, 149,\n",
       "        29,  64,   8, 138, 222,  55, 180,  89, 109, 216,  80,  49, 215,\n",
       "       132,  58, 117,  87,  54, 191, 175,  14, 107, 106,  85, 157, 147,\n",
       "       172, 162,  78,  13,  93, 115, 152,  41, 135, 150,  77, 139, 104,\n",
       "       163, 146, 161, 224,  91, 168,  57, 201,  96, 154, 209,  66, 116,\n",
       "       127,  53, 141,  37, 174, 136,  62, 198,  22,  11,  60, 131,  79,\n",
       "        56,  73,  47, 148,  86,   2,   4])"
      ]
     },
     "execution_count": 11,
     "metadata": {},
     "output_type": "execute_result"
    }
   ],
   "source": [
    "#Bike Type\n",
    "label_encoder = LabelEncoder()\n",
    "data['BIKE_TYPE_IND'] = label_encoder.fit_transform(data['BIKE_TYPE'])\n",
    "data['DIVISION_IND'] = label_encoder.fit_transform(data['DIVISION'])\n",
    "data['LOCATION_TYPE_IND'] = label_encoder.fit_transform(data['LOCATION_TYPE'])\n",
    "data['OCC_DOW_IND'] = label_encoder.fit_transform(data['OCC_DOW'])\n",
    "data['OCC_MONTH_IND'] = label_encoder.fit_transform(data['OCC_MONTH'])\n",
    "data['OCC_YEAR_IND'] = label_encoder.fit_transform(data['OCC_YEAR'])\n",
    "data['PREMISES_TYPE_IND'] = label_encoder.fit_transform(data['PREMISES_TYPE'])\n",
    "data['PRIMARY_OFFENCE_IND'] = label_encoder.fit_transform(data['PRIMARY_OFFENCE'])\n",
    "data['REPORT_DOW_IND'] = label_encoder.fit_transform(data['REPORT_DAY'])\n",
    "data['REPORT_MONTH_IND'] = label_encoder.fit_transform(data['REPORT_MONTH'])\n",
    "data['REPORT_YEAR_IND'] = label_encoder.fit_transform(data['REPORT_YEAR'])\n",
    "data['STATUS_IND'] = label_encoder.fit_transform(data['STATUS'])\n",
    "data['REPORT_HOUR_IND'] = label_encoder.fit_transform(data['REPORT_HOUR'])\n",
    "data['BIKE_MAKE_IND'] = label_encoder.fit_transform(data['BIKE_MAKE'])\n",
    "data['BIKE_COLOUR_IND'] = label_encoder.fit_transform(data['BIKE_COLOUR'])\n",
    "data['BIKE_COLOUR_IND'].unique()"
   ]
  },
  {
   "cell_type": "code",
   "execution_count": 12,
   "id": "3e0d01ab",
   "metadata": {},
   "outputs": [],
   "source": [
    "from sklearn.preprocessing import MinMaxScaler, StandardScaler, LabelEncoder\n",
    "\n",
    "\n",
    "# get numerical and categorical columns seperatly\n",
    "numeric_columns = data.select_dtypes(include=['float64', 'int64']).columns\n",
    "categorical_columns = data.select_dtypes(include=['object']).columns\n",
    "\n",
    "# Data Normalization for Numerical Columns\n",
    "scaler = MinMaxScaler()\n",
    "data[numeric_columns] = scaler.fit_transform(data[numeric_columns])\n",
    "\n",
    "# Label Encoding for Categorical Columns\n",
    "label_encoder = LabelEncoder()\n",
    "data[categorical_columns] = data[categorical_columns].apply(lambda col: label_encoder.fit_transform(col))\n",
    "\n",
    "#Data Standardization for Numerical Columns \n",
    "scaler_standard = StandardScaler()\n",
    "data[numeric_columns] = scaler_standard.fit_transform(data[numeric_columns])\n",
    "\n"
   ]
  },
  {
   "cell_type": "code",
   "execution_count": 13,
   "id": "d3051b30",
   "metadata": {},
   "outputs": [],
   "source": [
    "#Feature selection - first drop columns that are not needed\n",
    "df = data.drop(['X', 'Y', 'OBJECTID', 'EVENT_UNIQUE_ID', 'HOOD_158' ,'HOOD_140', 'NEIGHBOURHOOD_140' ,'LONG_WGS84',\n",
    "        'LAT_WGS84', 'PRIMARY_OFFENCE', 'OCC_DATE', 'OCC_YEAR', 'OCC_MONTH', 'OCC_DOW', 'OCC_DAY', 'OCC_HOUR',\n",
    "               'REPORT_DATE', 'REPORT_YEAR', 'REPORT_MONTH', 'REPORT_DOW', 'REPORT_DAY', 'REPORT_DOY', 'REPORT_HOUR',\n",
    "               'DIVISION', 'LOCATION_TYPE', 'PREMISES_TYPE', 'BIKE_MAKE', 'BIKE_MODEL', 'BIKE_TYPE', 'BIKE_COLOUR',\n",
    "               'STATUS', 'NEIGHBOURHOOD_158', 'BIKE_MODEL_CAT', 'NEIGHBOURHOOD_158_CAT', 'OCC_DOY', 'BIKE_COLOUR_CAT',\n",
    "               'BIKE_MAKE_CAT'], axis=1)"
   ]
  },
  {
   "cell_type": "code",
   "execution_count": 14,
   "id": "029917ef",
   "metadata": {},
   "outputs": [],
   "source": [
    "#feature selection\n",
    "X = df.drop('STATUS_IND', axis=1)\n",
    "y = df['STATUS_IND']\n",
    "\n"
   ]
  },
  {
   "cell_type": "code",
   "execution_count": 15,
   "id": "92de8286",
   "metadata": {},
   "outputs": [],
   "source": [
    "from sklearn.model_selection import train_test_split\n",
    "\n",
    "#Train, test data splitting\n",
    "np.random.seed(42)\n",
    "X_train, X_test, y_train, y_test = train_test_split(X, y, test_size=0.2, random_state=42)\n"
   ]
  },
  {
   "cell_type": "code",
   "execution_count": null,
   "id": "9eb52da5",
   "metadata": {},
   "outputs": [],
   "source": []
  }
 ],
 "metadata": {
  "kernelspec": {
   "display_name": "Python 3 (ipykernel)",
   "language": "python",
   "name": "python3"
  },
  "language_info": {
   "codemirror_mode": {
    "name": "ipython",
    "version": 3
   },
   "file_extension": ".py",
   "mimetype": "text/x-python",
   "name": "python",
   "nbconvert_exporter": "python",
   "pygments_lexer": "ipython3",
   "version": "3.11.5"
  }
 },
 "nbformat": 4,
 "nbformat_minor": 5
}
